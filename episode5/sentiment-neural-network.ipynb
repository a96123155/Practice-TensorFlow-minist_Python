{
 "cells": [
  {
   "cell_type": "code",
   "execution_count": 1,
   "metadata": {
    "collapsed": false
   },
   "outputs": [
    {
     "name": "stdout",
     "output_type": "stream",
     "text": [
      "424\n"
     ]
    }
   ],
   "source": [
    "import tensorflow as tf\n",
    "import numpy as np\n",
    "\n",
    "from ipynb.fs.full.create_sentiment_featuresets import create_feature_sets_and_labels\n",
    "\n",
    "train_x, train_y, test_x, test_y = create_feature_sets_and_labels('pos.txt', 'neg.txt')\n",
    "\n",
    "n_nodes_1 = 500\n",
    "n_nodes_2 = 500\n",
    "n_nodes_3 = 500\n",
    "\n",
    "n_classes = 2\n",
    "batch_size = 100\n",
    "\n",
    "# height * width\n",
    "x = tf.placeholder('float',[None, len(train_x[0])])\n",
    "y = tf.placeholder('float')"
   ]
  },
  {
   "cell_type": "code",
   "execution_count": 2,
   "metadata": {
    "collapsed": true
   },
   "outputs": [],
   "source": [
    "def neural_network_model(data):\n",
    "    \n",
    "    # Setting up the computation graph, means arrange how the model will work\n",
    "    hidden_1_layer = {\n",
    "        'weights': tf.Variable(tf.random_normal([len(train_x[0]), n_nodes_1])),\n",
    "        'bias': tf.Variable(tf.random_normal([n_nodes_1])),\n",
    "    }\n",
    "\n",
    "    hidden_2_layer = {\n",
    "        'weights': tf.Variable(tf.random_normal([n_nodes_1, n_nodes_2])),\n",
    "        'bias': tf.Variable(tf.random_normal([n_nodes_2])),\n",
    "    }\n",
    "\n",
    "    hidden_3_layer = {\n",
    "        'weights': tf.Variable(tf.random_normal([n_nodes_2, n_nodes_3])),\n",
    "        'bias': tf.Variable(tf.random_normal([n_nodes_3])),\n",
    "    }\n",
    "\n",
    "    output_layer = {\n",
    "        'weights': tf.Variable(tf.random_normal([n_nodes_3, n_classes])),\n",
    "        'bias': tf.Variable(tf.random_normal([n_classes])),\n",
    "    }\n",
    "\n",
    "    # (input_data * weight) + biases\n",
    "\n",
    "    l1 = tf.add(tf.matmul(data, hidden_1_layer['weights']), hidden_1_layer['bias'])\n",
    "    l1 = tf.nn.relu(l1)\n",
    "\n",
    "    l2 = tf.add(tf.matmul(l1, hidden_2_layer['weights']), hidden_2_layer['bias'])\n",
    "    l2 = tf.nn.relu(l2)\n",
    "\n",
    "    l3 = tf.add(tf.matmul(l2, hidden_3_layer['weights']), hidden_3_layer['bias'])\n",
    "    l3 = tf.nn.relu(l3)\n",
    "\n",
    "    output = tf.matmul(l3, output_layer['weights']) + output_layer['bias']\n",
    "\n",
    "    return output"
   ]
  },
  {
   "cell_type": "code",
   "execution_count": 9,
   "metadata": {
    "collapsed": true
   },
   "outputs": [],
   "source": [
    "def train_neural_network(x):\n",
    "    \n",
    "    print(x, y)\n",
    "    prediction = neural_network_model(x)\n",
    "    cost = tf.reduce_mean(tf.nn.softmax_cross_entropy_with_logits(logits=prediction, labels=y))\n",
    "    optimizer = tf.train.AdamOptimizer().minimize(cost)\n",
    "\n",
    "    hm_epochs = 10\n",
    "\n",
    "    with tf.Session() as sess:\n",
    "        sess.run(tf.global_variables_initializer())\n",
    "\n",
    "        for epoch in range(hm_epochs):\n",
    "            epoch_loss = 0\n",
    "            \n",
    "            i = 0\n",
    "            while i < len(train_x):\n",
    "                start = i\n",
    "                end = i+batch_size\n",
    "                \n",
    "                batch_x = np.array(train_x[start:end])\n",
    "                batch_y = np.array(train_y[start:end])\n",
    "                \n",
    "                _, c = sess.run([optimizer, cost], feed_dict = {x:batch_x, y:batch_y})\n",
    "                epoch_loss += c\n",
    "                i += batch_size\n",
    "                \n",
    "            print('Epoch', epoch + 1, 'complete out of', hm_epochs, 'loss:', epoch_loss)\n",
    "\n",
    "        correct = tf.equal(tf.argmax(prediction, 1), tf.argmax(y, 1))\n",
    "        accuracy = tf.reduce_mean(tf.cast(correct, 'float'))\n",
    "        print(\"Accuracy\", accuracy.eval({x:test_x, y:test_y}))"
   ]
  },
  {
   "cell_type": "code",
   "execution_count": 10,
   "metadata": {
    "collapsed": false
   },
   "outputs": [
    {
     "name": "stdout",
     "output_type": "stream",
     "text": [
      "Tensor(\"Placeholder:0\", shape=(?, 424), dtype=float32) Tensor(\"Placeholder_1:0\", dtype=float32)\n",
      "Epoch 1 complete out of 10 loss: 215555.81665039062\n",
      "Epoch 2 complete out of 10 loss: 104940.4067993164\n",
      "Epoch 3 complete out of 10 loss: 63972.50115966797\n",
      "Epoch 4 complete out of 10 loss: 39786.459869384766\n",
      "Epoch 5 complete out of 10 loss: 25288.608116149902\n",
      "Epoch 6 complete out of 10 loss: 16685.432006835938\n",
      "Epoch 7 complete out of 10 loss: 17104.528198242188\n",
      "Epoch 8 complete out of 10 loss: 19656.711603164673\n",
      "Epoch 9 complete out of 10 loss: 15366.340913772583\n",
      "Epoch 10 complete out of 10 loss: 9568.344597816467\n",
      "Accuracy 0.5947467\n"
     ]
    }
   ],
   "source": [
    "train_neural_network(x)"
   ]
  },
  {
   "cell_type": "code",
   "execution_count": null,
   "metadata": {
    "collapsed": true
   },
   "outputs": [],
   "source": []
  }
 ],
 "metadata": {
  "kernelspec": {
   "display_name": "Python 3",
   "language": "python",
   "name": "python3"
  },
  "language_info": {
   "codemirror_mode": {
    "name": "ipython",
    "version": 3
   },
   "file_extension": ".py",
   "mimetype": "text/x-python",
   "name": "python",
   "nbconvert_exporter": "python",
   "pygments_lexer": "ipython3",
   "version": "3.5.1"
  }
 },
 "nbformat": 4,
 "nbformat_minor": 2
}

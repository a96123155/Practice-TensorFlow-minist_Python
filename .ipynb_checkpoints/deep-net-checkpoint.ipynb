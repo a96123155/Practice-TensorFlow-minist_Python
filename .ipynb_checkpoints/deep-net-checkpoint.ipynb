{
 "cells": [
  {
   "cell_type": "code",
   "execution_count": 1,
   "metadata": {},
   "outputs": [
    {
     "ename": "ModuleNotFoundError",
     "evalue": "No module named 'tensorflow'",
     "output_type": "error",
     "traceback": [
      "\u001b[0;31m---------------------------------------------------------------------------\u001b[0m",
      "\u001b[0;31mModuleNotFoundError\u001b[0m                       Traceback (most recent call last)",
      "\u001b[0;32m<ipython-input-1-433743082658>\u001b[0m in \u001b[0;36m<module>\u001b[0;34m()\u001b[0m\n\u001b[0;32m----> 1\u001b[0;31m \u001b[0;32mimport\u001b[0m \u001b[0mtensorflow\u001b[0m \u001b[0;32mas\u001b[0m \u001b[0mtf\u001b[0m\u001b[0;34m\u001b[0m\u001b[0m\n\u001b[0m\u001b[1;32m      2\u001b[0m \u001b[0;32mfrom\u001b[0m \u001b[0mtensorflow\u001b[0m\u001b[0;34m.\u001b[0m\u001b[0mexamples\u001b[0m\u001b[0;34m.\u001b[0m\u001b[0mtutorials\u001b[0m\u001b[0;34m.\u001b[0m\u001b[0mmnist\u001b[0m \u001b[0;32mimport\u001b[0m \u001b[0minput_data\u001b[0m\u001b[0;34m\u001b[0m\u001b[0m\n\u001b[1;32m      3\u001b[0m \u001b[0;34m\u001b[0m\u001b[0m\n\u001b[1;32m      4\u001b[0m \u001b[0mmnist\u001b[0m \u001b[0;34m=\u001b[0m \u001b[0minput_data\u001b[0m\u001b[0;34m.\u001b[0m\u001b[0mread_data_sets\u001b[0m\u001b[0;34m(\u001b[0m\u001b[0;34m\"/tmp/data\"\u001b[0m\u001b[0;34m,\u001b[0m \u001b[0mone_hot\u001b[0m\u001b[0;34m=\u001b[0m\u001b[0;32mTrue\u001b[0m\u001b[0;34m)\u001b[0m\u001b[0;34m\u001b[0m\u001b[0m\n\u001b[1;32m      5\u001b[0m \u001b[0;34m\u001b[0m\u001b[0m\n",
      "\u001b[0;31mModuleNotFoundError\u001b[0m: No module named 'tensorflow'"
     ]
    }
   ],
   "source": [
    "import tensorflow as tf\n",
    "from tensorflow.examples.tutorials.mnist import input_data\n",
    "\n",
    "mnist = input_data.read_data_sets(\"/tmp/data\", one_hot=True)\n",
    "\n",
    "n_nodes_1 = 500\n",
    "n_nodes_2 = 500\n",
    "n_nodes_3 = 500\n",
    "\n",
    "n_classes = 10\n",
    "batch_size = 100\n",
    "\n",
    "# height * width\n",
    "x = tf.placeholder('float',[None, 784])\n",
    "y = tf.placeholder('float')"
   ]
  },
  {
   "cell_type": "code",
   "execution_count": 2,
   "metadata": {
    "collapsed": true
   },
   "outputs": [],
   "source": [
    "def neural_network_model(data):\n",
    "\n",
    "\thidden_1_layer = {\n",
    "\t\t'weights': tf.Variable(tf.random_normal([784, n_nodes_1])),\n",
    "\t\t'bias': tf.Variable(tf.random_normal([n_nodes_1])),\n",
    "\t}\n",
    "\n",
    "\thidden_2_layer = {\n",
    "\t\t'weights': tf.Variable(tf.random_normal([n_nodes_1, n_nodes_2])),\n",
    "\t\t'bias': tf.Variable(tf.random_normal([n_nodes_2])),\n",
    "\t}\n",
    "\n",
    "\thidden_3_layer = {\n",
    "\t\t'weights': tf.Variable(tf.random_normal([n_nodes_2, n_nodes_3])),\n",
    "\t\t'bias': tf.Variable(tf.random_normal([n_nodes_3])),\n",
    "\t}\n",
    "\n",
    "\toutput_layer = {\n",
    "\t\t'weights': tf.Variable(tf.random_normal([n_nodes_3, n_classes])),\n",
    "\t\t'bias': tf.Variable(tf.random_normal([n_classes])),\n",
    "\t}\n",
    "\n",
    "\t# (input_data * weight) + biases\n",
    "\n",
    "\tl1 = tf.add(tf.matmul(data, hidden_1_layer['weights']), hidden_1_layer['bias'])\n",
    "\tl1 = tf.nn.relu(l1)\n",
    "\n",
    "\tl2 = tf.add(tf.matmul(l1, hidden_2_layer['weights']), hidden_2_layer['bias'])\n",
    "\tl2 = tf.nn.relu(l2)\n",
    "\n",
    "\tl3 = tf.add(tf.matmul(l2, hidden_3_layer['weights']), hidden_3_layer['bias'])\n",
    "\tl3 = tf.nn.relu(l3)\n",
    "\n",
    "\toutput = tf.matmul(l3, output_layer['weights']) + output_layer['bias']\n",
    "\n",
    "\treturn output"
   ]
  },
  {
   "cell_type": "code",
   "execution_count": 3,
   "metadata": {
    "collapsed": true
   },
   "outputs": [],
   "source": [
    "def train_neural_network(x):\n",
    "\tprediction = neural_network_model(x)\n",
    "\tcost = tf.reduce_mean( tf.nn.softmax_cross_entropy_with_logits(logits=prediction, labels=y))\n",
    "\toptimizer = tf.train.AdamOptimizer().minimize(cost)\n",
    "\n",
    "\thm_epochs = 10\n",
    "\n",
    "\twith tf.Session() as sess:\n",
    "\t\tsess.run(tf.global_variables_initializer())\n",
    "\n",
    "\t\tfor epoch in range(hm_epochs):\n",
    "\t\t\tepoch_loss = 0\n",
    "\n",
    "\t\t\tfor _ in range(int(mnist.train.num_examples/batch_size)):\n",
    "\t\t\t\tepoch_x, epoch_y = mnist.train.next_batch(batch_size)\n",
    "\t\t\t\t_, c = sess.run([optimizer, cost], feed_dict = {x:epoch_x, y:epoch_y})\n",
    "\t\t\t\tepoch_loss += c\n",
    "\t\t\tprint('Epoch', epoch, 'complete out of', hm_epochs, 'loss:', epoch_loss)\n",
    "\n",
    "\t\tcorrect = tf.equal(tf.argmax(prediction, 1), tf.argmax(y, 1))\n",
    "\t\taccuracy = tf.reduce_mean(tf.cast(correct, 'float'))\n",
    "\t\tprint(\"Accuracy\", accuracy.eval({x:mnist.test.images, y:mnist.test.labels}))"
   ]
  },
  {
   "cell_type": "code",
   "execution_count": 4,
   "metadata": {},
   "outputs": [
    {
     "ename": "NameError",
     "evalue": "name 'x' is not defined",
     "output_type": "error",
     "traceback": [
      "\u001b[0;31m---------------------------------------------------------------------------\u001b[0m",
      "\u001b[0;31mNameError\u001b[0m                                 Traceback (most recent call last)",
      "\u001b[0;32m<ipython-input-4-7c7cbdae9b34>\u001b[0m in \u001b[0;36m<module>\u001b[0;34m()\u001b[0m\n\u001b[0;32m----> 1\u001b[0;31m \u001b[0mtrain_neural_network\u001b[0m\u001b[0;34m(\u001b[0m\u001b[0mx\u001b[0m\u001b[0;34m)\u001b[0m\u001b[0;34m\u001b[0m\u001b[0m\n\u001b[0m",
      "\u001b[0;31mNameError\u001b[0m: name 'x' is not defined"
     ]
    }
   ],
   "source": [
    "train_neural_network(x)"
   ]
  },
  {
   "cell_type": "code",
   "execution_count": null,
   "metadata": {
    "collapsed": true
   },
   "outputs": [],
   "source": []
  }
 ],
 "metadata": {
  "kernelspec": {
   "display_name": "Python 3",
   "language": "python",
   "name": "python3"
  },
  "language_info": {
   "codemirror_mode": {
    "name": "ipython",
    "version": 3
   },
   "file_extension": ".py",
   "mimetype": "text/x-python",
   "name": "python",
   "nbconvert_exporter": "python",
   "pygments_lexer": "ipython3",
   "version": "3.6.3"
  }
 },
 "nbformat": 4,
 "nbformat_minor": 2
}
